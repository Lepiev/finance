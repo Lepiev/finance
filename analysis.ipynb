{
 "cells": [
  {
   "cell_type": "code",
   "execution_count": 41,
   "id": "57b3d9a4",
   "metadata": {},
   "outputs": [],
   "source": [
    "\n",
    "import pandas as pd\n",
    "from data_fetch import api_request\n",
    "from datetime import date, timedelta\n",
    "\n",
    "\n",
    "TICKERS = [\"SBER\", \"GAZP\", \"LKOH\", \"ROSN\", \"GMKN\", \"NVTK\", \"TATN\"]\n",
    "\n",
    "#Вычисляем вчерашнюю дату\n",
    "yesterday = date.today() - timedelta(days=1)\n",
    "# приводим к строке в формате YYYY-MM-DD\n",
    "YEST = yesterday.isoformat()\n",
    "\n",
    "# последняя цена закрытия для каждой акции\n",
    "rows = []\n",
    "for t in TICKERS:\n",
    "    df = api_request(t, YEST, YEST)\n",
    "    price = df[\"close\"].iloc[-1]\n",
    "    rows.append({\"Name\": t, \"Price\" : price})\n",
    "last_prices = pd.DataFrame(rows)\n",
    "\n"
   ]
  },
  {
   "cell_type": "markdown",
   "id": "c819500e",
   "metadata": {},
   "source": [
    "## Выводим цену акций в момент закрытия торгов во вчерашний день"
   ]
  },
  {
   "cell_type": "code",
   "execution_count": 42,
   "id": "9e97a705",
   "metadata": {},
   "outputs": [
    {
     "data": {
      "text/html": [
       "<div>\n",
       "<style scoped>\n",
       "    .dataframe tbody tr th:only-of-type {\n",
       "        vertical-align: middle;\n",
       "    }\n",
       "\n",
       "    .dataframe tbody tr th {\n",
       "        vertical-align: top;\n",
       "    }\n",
       "\n",
       "    .dataframe thead th {\n",
       "        text-align: right;\n",
       "    }\n",
       "</style>\n",
       "<table border=\"1\" class=\"dataframe\">\n",
       "  <thead>\n",
       "    <tr style=\"text-align: right;\">\n",
       "      <th></th>\n",
       "      <th>Name</th>\n",
       "      <th>Price</th>\n",
       "    </tr>\n",
       "  </thead>\n",
       "  <tbody>\n",
       "    <tr>\n",
       "      <th>0</th>\n",
       "      <td>SBER</td>\n",
       "      <td>298.70</td>\n",
       "    </tr>\n",
       "    <tr>\n",
       "      <th>1</th>\n",
       "      <td>GAZP</td>\n",
       "      <td>127.41</td>\n",
       "    </tr>\n",
       "    <tr>\n",
       "      <th>2</th>\n",
       "      <td>LKOH</td>\n",
       "      <td>6486.00</td>\n",
       "    </tr>\n",
       "    <tr>\n",
       "      <th>3</th>\n",
       "      <td>ROSN</td>\n",
       "      <td>413.65</td>\n",
       "    </tr>\n",
       "    <tr>\n",
       "      <th>4</th>\n",
       "      <td>GMKN</td>\n",
       "      <td>101.34</td>\n",
       "    </tr>\n",
       "    <tr>\n",
       "      <th>5</th>\n",
       "      <td>NVTK</td>\n",
       "      <td>1040.60</td>\n",
       "    </tr>\n",
       "    <tr>\n",
       "      <th>6</th>\n",
       "      <td>TATN</td>\n",
       "      <td>680.10</td>\n",
       "    </tr>\n",
       "  </tbody>\n",
       "</table>\n",
       "</div>"
      ],
      "text/plain": [
       "   Name    Price\n",
       "0  SBER   298.70\n",
       "1  GAZP   127.41\n",
       "2  LKOH  6486.00\n",
       "3  ROSN   413.65\n",
       "4  GMKN   101.34\n",
       "5  NVTK  1040.60\n",
       "6  TATN   680.10"
      ]
     },
     "metadata": {},
     "output_type": "display_data"
    }
   ],
   "source": [
    "\n",
    "display(last_prices)\n"
   ]
  }
 ],
 "metadata": {
  "kernelspec": {
   "display_name": ".venv",
   "language": "python",
   "name": "python3"
  },
  "language_info": {
   "codemirror_mode": {
    "name": "ipython",
    "version": 3
   },
   "file_extension": ".py",
   "mimetype": "text/x-python",
   "name": "python",
   "nbconvert_exporter": "python",
   "pygments_lexer": "ipython3",
   "version": "3.13.1"
  }
 },
 "nbformat": 4,
 "nbformat_minor": 5
}
