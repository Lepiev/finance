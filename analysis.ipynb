{
 "cells": [
  {
   "cell_type": "code",
   "execution_count": null,
   "id": "57b3d9a4",
   "metadata": {},
   "outputs": [],
   "source": [
    "\n",
    "import pandas as pd\n",
    "from data_fetch import api_request\n",
    "from datetime import date, timedelta\n",
    "\n",
    "\n",
    "TICKERS = [\"SBER\", \"GAZP\", \"LKOH\", \"ROSN\", \"GMKN\", \"NVTK\", \"TATN\"]\n",
    "\n",
    "#Вычисляем вчерашнюю дату\n",
    "yesterday = date.today() - timedelta(days=1)\n",
    "# приводим к строке в формате YYYY-MM-DD\n",
    "YEST = yesterday.isoformat()\n",
    "\n",
    "# последняя цена закрытия для каждой акции\n",
    "rows = []\n",
    "for t in TICKERS:\n",
    "    df = api_request(t, YEST, YEST)\n",
    "    price = df[\"close\"].iloc[-1]\n",
    "    rows.append({\"Name\": t, \"Price\" : price})\n",
    "last_prices = pd.DataFrame(rows).set_index(\"Price\", drop = True)\n",
    "\n"
   ]
  },
  {
   "cell_type": "markdown",
   "id": "c819500e",
   "metadata": {},
   "source": [
    "## Выводим цену акций в момент закрытия торгов во вчерашний день"
   ]
  },
  {
   "cell_type": "code",
   "execution_count": 39,
   "id": "9e97a705",
   "metadata": {},
   "outputs": [
    {
     "data": {
      "text/html": [
       "<div>\n",
       "<style scoped>\n",
       "    .dataframe tbody tr th:only-of-type {\n",
       "        vertical-align: middle;\n",
       "    }\n",
       "\n",
       "    .dataframe tbody tr th {\n",
       "        vertical-align: top;\n",
       "    }\n",
       "\n",
       "    .dataframe thead th {\n",
       "        text-align: right;\n",
       "    }\n",
       "</style>\n",
       "<table border=\"1\" class=\"dataframe\">\n",
       "  <thead>\n",
       "    <tr style=\"text-align: right;\">\n",
       "      <th></th>\n",
       "      <th>Name</th>\n",
       "    </tr>\n",
       "    <tr>\n",
       "      <th>Price</th>\n",
       "      <th></th>\n",
       "    </tr>\n",
       "  </thead>\n",
       "  <tbody>\n",
       "    <tr>\n",
       "      <th>298.70</th>\n",
       "      <td>SBER</td>\n",
       "    </tr>\n",
       "    <tr>\n",
       "      <th>127.41</th>\n",
       "      <td>GAZP</td>\n",
       "    </tr>\n",
       "    <tr>\n",
       "      <th>6486.00</th>\n",
       "      <td>LKOH</td>\n",
       "    </tr>\n",
       "    <tr>\n",
       "      <th>413.65</th>\n",
       "      <td>ROSN</td>\n",
       "    </tr>\n",
       "    <tr>\n",
       "      <th>101.34</th>\n",
       "      <td>GMKN</td>\n",
       "    </tr>\n",
       "    <tr>\n",
       "      <th>1040.60</th>\n",
       "      <td>NVTK</td>\n",
       "    </tr>\n",
       "    <tr>\n",
       "      <th>680.10</th>\n",
       "      <td>TATN</td>\n",
       "    </tr>\n",
       "  </tbody>\n",
       "</table>\n",
       "</div>"
      ],
      "text/plain": [
       "         Name\n",
       "Price        \n",
       "298.70   SBER\n",
       "127.41   GAZP\n",
       "6486.00  LKOH\n",
       "413.65   ROSN\n",
       "101.34   GMKN\n",
       "1040.60  NVTK\n",
       "680.10   TATN"
      ]
     },
     "metadata": {},
     "output_type": "display_data"
    }
   ],
   "source": [
    "\n",
    "display(last_prices)\n"
   ]
  }
 ],
 "metadata": {
  "kernelspec": {
   "display_name": ".venv",
   "language": "python",
   "name": "python3"
  },
  "language_info": {
   "codemirror_mode": {
    "name": "ipython",
    "version": 3
   },
   "file_extension": ".py",
   "mimetype": "text/x-python",
   "name": "python",
   "nbconvert_exporter": "python",
   "pygments_lexer": "ipython3",
   "version": "3.13.1"
  }
 },
 "nbformat": 4,
 "nbformat_minor": 5
}
