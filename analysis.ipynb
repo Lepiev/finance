{
 "cells": [
  {
   "cell_type": "code",
   "execution_count": null,
   "id": "57b3d9a4",
   "metadata": {},
   "outputs": [],
   "source": [
    "\n",
    "TICKERS = [\"SBER\", \"GAZP\", \"LKOH\", \"ROSN\", \"GMKN\", \"NVTK\", \"TATN\"]\n",
    "from data_fetch import api_request\n",
    "DATE_FROM = \"2025-05-26\"\n",
    "DATE_TO = \"2025-05-27\"\n",
    "# последняя цена закрытия для каждой акции\n",
    "last_prices = {}\n",
    "for t in TICKERS:\n",
    "    df = api_request(t, DATE_FROM, DATE_TO)\n",
    "    last_prices[t] = df[\"close\"].iloc[-1]\n",
    "\n"
   ]
  },
  {
   "cell_type": "code",
   "execution_count": 12,
   "id": "9e97a705",
   "metadata": {},
   "outputs": [
    {
     "name": "stdout",
     "output_type": "stream",
     "text": [
      "{'SBER': np.float64(298.7), 'GAZP': np.float64(127.41), 'LKOH': np.int64(6486), 'ROSN': np.float64(413.65), 'GMKN': np.float64(101.34), 'NVTK': np.float64(1040.6), 'TATN': np.float64(680.1)}\n"
     ]
    }
   ],
   "source": [
    "print(last_prices)"
   ]
  }
 ],
 "metadata": {
  "kernelspec": {
   "display_name": ".venv",
   "language": "python",
   "name": "python3"
  },
  "language_info": {
   "codemirror_mode": {
    "name": "ipython",
    "version": 3
   },
   "file_extension": ".py",
   "mimetype": "text/x-python",
   "name": "python",
   "nbconvert_exporter": "python",
   "pygments_lexer": "ipython3",
   "version": "3.13.1"
  }
 },
 "nbformat": 4,
 "nbformat_minor": 5
}
